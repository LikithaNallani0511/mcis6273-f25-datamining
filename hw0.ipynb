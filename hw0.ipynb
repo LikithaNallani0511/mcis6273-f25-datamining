{
 "cells": [
  {
   "cell_type": "code",
   "execution_count": 1,
   "id": "78f273ac-0f0b-4816-aaec-a71fae043551",
   "metadata": {
    "editable": true,
    "slideshow": {
     "slide_type": ""
    },
    "tags": []
   },
   "outputs": [],
   "source": [
    "from bs4 import BeautifulSoup\n",
    "import requests"
   ]
  },
  {
   "cell_type": "code",
   "execution_count": 2,
   "id": "bb5c65ac-1871-4f6c-af67-ecd7014dcfdd",
   "metadata": {},
   "outputs": [],
   "source": [
    "import os \n",
    "import re"
   ]
  },
  {
   "cell_type": "code",
   "execution_count": 3,
   "id": "91a2105b-0a78-47c0-b193-49f7eafe52a4",
   "metadata": {},
   "outputs": [],
   "source": [
    "url = \"https://globeatnight.org/maps-data/\""
   ]
  },
  {
   "cell_type": "code",
   "execution_count": 4,
   "id": "50eff866-652d-4d96-8369-aadb54ff3540",
   "metadata": {},
   "outputs": [],
   "source": [
    "response=requests.get(url)"
   ]
  },
  {
   "cell_type": "code",
   "execution_count": 5,
   "id": "2e8dca30-e494-4bb4-8625-6b9435c52efd",
   "metadata": {},
   "outputs": [
    {
     "name": "stdout",
     "output_type": "stream",
     "text": [
      "<Response [200]>\n"
     ]
    }
   ],
   "source": [
    "print(response)"
   ]
  },
  {
   "cell_type": "code",
   "execution_count": 6,
   "id": "4a698e27-483f-4d29-859b-4f4a92e74ffb",
   "metadata": {},
   "outputs": [],
   "source": [
    "html = response.text"
   ]
  },
  {
   "cell_type": "code",
   "execution_count": 7,
   "id": "fe5ab41f-7a21-44bf-ac25-be3ce8c5610f",
   "metadata": {},
   "outputs": [],
   "source": [
    "soup = BeautifulSoup(html,'html.parser')"
   ]
  },
  {
   "cell_type": "code",
   "execution_count": 8,
   "id": "dbad0793-3631-4b8a-9664-891895b95215",
   "metadata": {},
   "outputs": [],
   "source": [
    "links = soup.find_all(\"a\")"
   ]
  },
  {
   "cell_type": "code",
   "execution_count": 9,
   "id": "b700720b-729d-4c85-aac6-8b9a7479724d",
   "metadata": {},
   "outputs": [],
   "source": [
    "match_pat = []\n",
    "for link in links:\n",
    "    href = link.get(\"href\", \"\")\n",
    "    if href.startswith(\"/documents/\") and \"GaN\" in href and href.endswith(\".csv\"):\n",
    "        match_pat.append(href)"
   ]
  },
  {
   "cell_type": "code",
   "execution_count": 10,
   "id": "d5272c6a-090c-463b-bc0c-45f837d504d9",
   "metadata": {},
   "outputs": [],
   "source": [
    "os.makedirs(\"data\", exist_ok=True)"
   ]
  },
  {
   "cell_type": "code",
   "execution_count": 11,
   "id": "4b07fdfe-7ddf-4143-b6df-962cd37de091",
   "metadata": {},
   "outputs": [],
   "source": [
    "with open(\"data/gan_urls.txt\", \"w\") as f:\n",
    "   for href in match_pat:\n",
    "        \n",
    "        full_url = \"https://globeatnight.org\" + href\n",
    "        f.write(full_url + \",\")"
   ]
  },
  {
   "cell_type": "code",
   "execution_count": 12,
   "id": "68152ffd-2166-43e8-99ca-6eaad3a9ac3b",
   "metadata": {},
   "outputs": [
    {
     "name": "stdout",
     "output_type": "stream",
     "text": [
      "Extracted 19 GaN CSV file URLs into data)/gan_urls.txt\n"
     ]
    }
   ],
   "source": [
    "print(f\"Extracted {len(match_pat)} GaN CSV file URLs into data)/gan_urls.txt\")"
   ]
  }
 ],
 "metadata": {
  "kernelspec": {
   "display_name": "Python [conda env:base] *",
   "language": "python",
   "name": "conda-base-py"
  },
  "language_info": {
   "codemirror_mode": {
    "name": "ipython",
    "version": 3
   },
   "file_extension": ".py",
   "mimetype": "text/x-python",
   "name": "python",
   "nbconvert_exporter": "python",
   "pygments_lexer": "ipython3",
   "version": "3.12.11"
  }
 },
 "nbformat": 4,
 "nbformat_minor": 5
}
